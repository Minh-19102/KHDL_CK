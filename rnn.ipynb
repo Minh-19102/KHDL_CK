{
 "cells": [
  {
   "cell_type": "code",
   "execution_count": 11,
   "metadata": {},
   "outputs": [],
   "source": [
    "import numpy as np #For algebrical operations.\n",
    "import pandas as pd # For EDA purposes.\n",
    "import seaborn as sns # For Datavisuals\n",
    "import matplotlib.pyplot as plt #For Data visuals"
   ]
  },
  {
   "cell_type": "code",
   "execution_count": 12,
   "metadata": {},
   "outputs": [],
   "source": [
    "data = pd.read_csv(\"VIC.csv\")"
   ]
  },
  {
   "cell_type": "code",
   "execution_count": 13,
   "metadata": {},
   "outputs": [
    {
     "data": {
      "text/html": [
       "<div>\n",
       "<style scoped>\n",
       "    .dataframe tbody tr th:only-of-type {\n",
       "        vertical-align: middle;\n",
       "    }\n",
       "\n",
       "    .dataframe tbody tr th {\n",
       "        vertical-align: top;\n",
       "    }\n",
       "\n",
       "    .dataframe thead th {\n",
       "        text-align: right;\n",
       "    }\n",
       "</style>\n",
       "<table border=\"1\" class=\"dataframe\">\n",
       "  <thead>\n",
       "    <tr style=\"text-align: right;\">\n",
       "      <th></th>\n",
       "      <th>Ngày</th>\n",
       "      <th>Lần cuối</th>\n",
       "      <th>Mở</th>\n",
       "      <th>Cao</th>\n",
       "      <th>Thấp</th>\n",
       "      <th>KL</th>\n",
       "      <th>% Thay đổi</th>\n",
       "    </tr>\n",
       "  </thead>\n",
       "  <tbody>\n",
       "    <tr>\n",
       "      <th>0</th>\n",
       "      <td>16/05/2024</td>\n",
       "      <td>46,750</td>\n",
       "      <td>46,150</td>\n",
       "      <td>48,200</td>\n",
       "      <td>45,600</td>\n",
       "      <td>2.78M</td>\n",
       "      <td>0.86%</td>\n",
       "    </tr>\n",
       "    <tr>\n",
       "      <th>1</th>\n",
       "      <td>15/05/2024</td>\n",
       "      <td>46,350</td>\n",
       "      <td>46,500</td>\n",
       "      <td>48,050</td>\n",
       "      <td>46,050</td>\n",
       "      <td>1.36M</td>\n",
       "      <td>0.65%</td>\n",
       "    </tr>\n",
       "    <tr>\n",
       "      <th>2</th>\n",
       "      <td>14/05/2024</td>\n",
       "      <td>46,050</td>\n",
       "      <td>45,550</td>\n",
       "      <td>48,150</td>\n",
       "      <td>45,000</td>\n",
       "      <td>5.26M</td>\n",
       "      <td>2.22%</td>\n",
       "    </tr>\n",
       "    <tr>\n",
       "      <th>3</th>\n",
       "      <td>13/05/2024</td>\n",
       "      <td>45,050</td>\n",
       "      <td>45,000</td>\n",
       "      <td>45,500</td>\n",
       "      <td>44,100</td>\n",
       "      <td>1.17M</td>\n",
       "      <td>0.11%</td>\n",
       "    </tr>\n",
       "    <tr>\n",
       "      <th>4</th>\n",
       "      <td>10/05/2024</td>\n",
       "      <td>45,000</td>\n",
       "      <td>45,400</td>\n",
       "      <td>46,150</td>\n",
       "      <td>44,400</td>\n",
       "      <td>1.17M</td>\n",
       "      <td>-0.88%</td>\n",
       "    </tr>\n",
       "  </tbody>\n",
       "</table>\n",
       "</div>"
      ],
      "text/plain": [
       "         Ngày Lần cuối      Mở     Cao    Thấp     KL % Thay đổi\n",
       "0  16/05/2024   46,750  46,150  48,200  45,600  2.78M      0.86%\n",
       "1  15/05/2024   46,350  46,500  48,050  46,050  1.36M      0.65%\n",
       "2  14/05/2024   46,050  45,550  48,150  45,000  5.26M      2.22%\n",
       "3  13/05/2024   45,050  45,000  45,500  44,100  1.17M      0.11%\n",
       "4  10/05/2024   45,000  45,400  46,150  44,400  1.17M     -0.88%"
      ]
     },
     "execution_count": 13,
     "metadata": {},
     "output_type": "execute_result"
    }
   ],
   "source": [
    "data.head()"
   ]
  },
  {
   "cell_type": "code",
   "execution_count": 14,
   "metadata": {},
   "outputs": [
    {
     "data": {
      "text/html": [
       "<div>\n",
       "<style scoped>\n",
       "    .dataframe tbody tr th:only-of-type {\n",
       "        vertical-align: middle;\n",
       "    }\n",
       "\n",
       "    .dataframe tbody tr th {\n",
       "        vertical-align: top;\n",
       "    }\n",
       "\n",
       "    .dataframe thead th {\n",
       "        text-align: right;\n",
       "    }\n",
       "</style>\n",
       "<table border=\"1\" class=\"dataframe\">\n",
       "  <thead>\n",
       "    <tr style=\"text-align: right;\">\n",
       "      <th></th>\n",
       "      <th>Ngày</th>\n",
       "      <th>Lần cuối</th>\n",
       "      <th>Mở</th>\n",
       "      <th>Cao</th>\n",
       "      <th>Thấp</th>\n",
       "      <th>KL</th>\n",
       "      <th>% Thay đổi</th>\n",
       "    </tr>\n",
       "  </thead>\n",
       "  <tbody>\n",
       "    <tr>\n",
       "      <th>count</th>\n",
       "      <td>2709</td>\n",
       "      <td>2709</td>\n",
       "      <td>2709</td>\n",
       "      <td>2709</td>\n",
       "      <td>2709</td>\n",
       "      <td>2709</td>\n",
       "      <td>2709</td>\n",
       "    </tr>\n",
       "    <tr>\n",
       "      <th>unique</th>\n",
       "      <td>2709</td>\n",
       "      <td>1134</td>\n",
       "      <td>1146</td>\n",
       "      <td>1187</td>\n",
       "      <td>1152</td>\n",
       "      <td>1628</td>\n",
       "      <td>711</td>\n",
       "    </tr>\n",
       "    <tr>\n",
       "      <th>top</th>\n",
       "      <td>16/05/2024</td>\n",
       "      <td>34,711</td>\n",
       "      <td>35,549</td>\n",
       "      <td>34,213</td>\n",
       "      <td>33,678</td>\n",
       "      <td>1.22M</td>\n",
       "      <td>0.00%</td>\n",
       "    </tr>\n",
       "    <tr>\n",
       "      <th>freq</th>\n",
       "      <td>1</td>\n",
       "      <td>25</td>\n",
       "      <td>16</td>\n",
       "      <td>18</td>\n",
       "      <td>22</td>\n",
       "      <td>14</td>\n",
       "      <td>391</td>\n",
       "    </tr>\n",
       "  </tbody>\n",
       "</table>\n",
       "</div>"
      ],
      "text/plain": [
       "              Ngày Lần cuối      Mở     Cao    Thấp     KL % Thay đổi\n",
       "count         2709     2709    2709    2709    2709   2709       2709\n",
       "unique        2709     1134    1146    1187    1152   1628        711\n",
       "top     16/05/2024   34,711  35,549  34,213  33,678  1.22M      0.00%\n",
       "freq             1       25      16      18      22     14        391"
      ]
     },
     "execution_count": 14,
     "metadata": {},
     "output_type": "execute_result"
    }
   ],
   "source": [
    "data.describe()"
   ]
  },
  {
   "cell_type": "code",
   "execution_count": 15,
   "metadata": {},
   "outputs": [],
   "source": [
    "new_col = {\n",
    "    'Ngày': 'date',\n",
    "    'Lần cuối': 'close',\n",
    "    'Mở': 'open',\n",
    "    'Cao': 'high',\n",
    "    'Thấp': 'low',\n",
    "    'KL': 'volume',\n",
    "    '% Thay đổi': 'change',\n",
    "}"
   ]
  },
  {
   "cell_type": "code",
   "execution_count": 16,
   "metadata": {},
   "outputs": [],
   "source": [
    "data.rename(columns=new_col, inplace=True)"
   ]
  },
  {
   "cell_type": "code",
   "execution_count": 17,
   "metadata": {},
   "outputs": [],
   "source": [
    "new_type = {\n",
    "    'date': 'datetime64',\n",
    "    'close': 'float64',\n",
    "    'open': 'float64',\n",
    "    'high': 'float64',\n",
    "    'low': 'float64',\n",
    "}"
   ]
  },
  {
   "cell_type": "code",
   "execution_count": 18,
   "metadata": {},
   "outputs": [],
   "source": [
    "# data.astype(new_type).dtypes"
   ]
  },
  {
   "cell_type": "code",
   "execution_count": 19,
   "metadata": {},
   "outputs": [],
   "source": [
    "def convert_to_float(value):\n",
    "    value = value.replace(',', '.')\n",
    "    \n",
    "    if 'M' in value:\n",
    "        return float(value.replace('M', '')) * 1_000_000\n",
    "    elif 'K' in value:\n",
    "        return float(value.replace('K', '')) * 1_000\n",
    "    elif '%' in value:\n",
    "        return float(value.replace('%', '')) / 100\n",
    "    elif '/' in value:\n",
    "        return pd.to_datetime(value, format='%d/%m/%Y')\n",
    "    else:\n",
    "        return float(value)"
   ]
  },
  {
   "cell_type": "code",
   "execution_count": 20,
   "metadata": {},
   "outputs": [],
   "source": [
    "for col in data.columns:\n",
    "    data[col] = data[col].apply(convert_to_float)"
   ]
  },
  {
   "cell_type": "code",
   "execution_count": 22,
   "metadata": {},
   "outputs": [
    {
     "data": {
      "text/html": [
       "<div>\n",
       "<style scoped>\n",
       "    .dataframe tbody tr th:only-of-type {\n",
       "        vertical-align: middle;\n",
       "    }\n",
       "\n",
       "    .dataframe tbody tr th {\n",
       "        vertical-align: top;\n",
       "    }\n",
       "\n",
       "    .dataframe thead th {\n",
       "        text-align: right;\n",
       "    }\n",
       "</style>\n",
       "<table border=\"1\" class=\"dataframe\">\n",
       "  <thead>\n",
       "    <tr style=\"text-align: right;\">\n",
       "      <th></th>\n",
       "      <th>date</th>\n",
       "      <th>close</th>\n",
       "      <th>open</th>\n",
       "      <th>high</th>\n",
       "      <th>low</th>\n",
       "      <th>volume</th>\n",
       "      <th>change</th>\n",
       "    </tr>\n",
       "  </thead>\n",
       "  <tbody>\n",
       "    <tr>\n",
       "      <th>0</th>\n",
       "      <td>2024-05-16</td>\n",
       "      <td>46.75</td>\n",
       "      <td>46.15</td>\n",
       "      <td>48.20</td>\n",
       "      <td>45.60</td>\n",
       "      <td>2780000.0</td>\n",
       "      <td>0.0086</td>\n",
       "    </tr>\n",
       "    <tr>\n",
       "      <th>1</th>\n",
       "      <td>2024-05-15</td>\n",
       "      <td>46.35</td>\n",
       "      <td>46.50</td>\n",
       "      <td>48.05</td>\n",
       "      <td>46.05</td>\n",
       "      <td>1360000.0</td>\n",
       "      <td>0.0065</td>\n",
       "    </tr>\n",
       "    <tr>\n",
       "      <th>2</th>\n",
       "      <td>2024-05-14</td>\n",
       "      <td>46.05</td>\n",
       "      <td>45.55</td>\n",
       "      <td>48.15</td>\n",
       "      <td>45.00</td>\n",
       "      <td>5260000.0</td>\n",
       "      <td>0.0222</td>\n",
       "    </tr>\n",
       "    <tr>\n",
       "      <th>3</th>\n",
       "      <td>2024-05-13</td>\n",
       "      <td>45.05</td>\n",
       "      <td>45.00</td>\n",
       "      <td>45.50</td>\n",
       "      <td>44.10</td>\n",
       "      <td>1170000.0</td>\n",
       "      <td>0.0011</td>\n",
       "    </tr>\n",
       "    <tr>\n",
       "      <th>4</th>\n",
       "      <td>2024-05-10</td>\n",
       "      <td>45.00</td>\n",
       "      <td>45.40</td>\n",
       "      <td>46.15</td>\n",
       "      <td>44.40</td>\n",
       "      <td>1170000.0</td>\n",
       "      <td>-0.0088</td>\n",
       "    </tr>\n",
       "  </tbody>\n",
       "</table>\n",
       "</div>"
      ],
      "text/plain": [
       "        date  close   open   high    low     volume  change\n",
       "0 2024-05-16  46.75  46.15  48.20  45.60  2780000.0  0.0086\n",
       "1 2024-05-15  46.35  46.50  48.05  46.05  1360000.0  0.0065\n",
       "2 2024-05-14  46.05  45.55  48.15  45.00  5260000.0  0.0222\n",
       "3 2024-05-13  45.05  45.00  45.50  44.10  1170000.0  0.0011\n",
       "4 2024-05-10  45.00  45.40  46.15  44.40  1170000.0 -0.0088"
      ]
     },
     "execution_count": 22,
     "metadata": {},
     "output_type": "execute_result"
    }
   ],
   "source": [
    "data.head()"
   ]
  },
  {
   "cell_type": "code",
   "execution_count": null,
   "metadata": {},
   "outputs": [],
   "source": []
  }
 ],
 "metadata": {
  "kernelspec": {
   "display_name": "base",
   "language": "python",
   "name": "python3"
  },
  "language_info": {
   "codemirror_mode": {
    "name": "ipython",
    "version": 3
   },
   "file_extension": ".py",
   "mimetype": "text/x-python",
   "name": "python",
   "nbconvert_exporter": "python",
   "pygments_lexer": "ipython3",
   "version": "3.11.5"
  }
 },
 "nbformat": 4,
 "nbformat_minor": 2
}
