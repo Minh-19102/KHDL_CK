{
 "cells": [
  {
   "cell_type": "code",
   "execution_count": 4,
   "metadata": {},
   "outputs": [],
   "source": [
    "from vnstock import *"
   ]
  },
  {
   "cell_type": "code",
   "execution_count": 8,
   "metadata": {},
   "outputs": [
    {
     "data": {
      "text/html": [
       "<div>\n",
       "<style scoped>\n",
       "    .dataframe tbody tr th:only-of-type {\n",
       "        vertical-align: middle;\n",
       "    }\n",
       "\n",
       "    .dataframe tbody tr th {\n",
       "        vertical-align: top;\n",
       "    }\n",
       "\n",
       "    .dataframe thead th {\n",
       "        text-align: right;\n",
       "    }\n",
       "</style>\n",
       "<table border=\"1\" class=\"dataframe\">\n",
       "  <thead>\n",
       "    <tr style=\"text-align: right;\">\n",
       "      <th></th>\n",
       "      <th>ticker</th>\n",
       "      <th>organName</th>\n",
       "      <th>organTypeCode</th>\n",
       "      <th>comGroupCode</th>\n",
       "    </tr>\n",
       "  </thead>\n",
       "  <tbody>\n",
       "    <tr>\n",
       "      <th>0</th>\n",
       "      <td>A32</td>\n",
       "      <td>CTCP 32</td>\n",
       "      <td>1</td>\n",
       "      <td>UPCOM</td>\n",
       "    </tr>\n",
       "    <tr>\n",
       "      <th>1</th>\n",
       "      <td>AAA</td>\n",
       "      <td>CTCP Nhựa An Phát Xanh</td>\n",
       "      <td>1</td>\n",
       "      <td>HOSE</td>\n",
       "    </tr>\n",
       "    <tr>\n",
       "      <th>2</th>\n",
       "      <td>AAH</td>\n",
       "      <td>CTCP Hợp Nhất</td>\n",
       "      <td>1</td>\n",
       "      <td>UPCOM</td>\n",
       "    </tr>\n",
       "    <tr>\n",
       "      <th>3</th>\n",
       "      <td>AAM</td>\n",
       "      <td>CTCP Thủy sản MeKong</td>\n",
       "      <td>1</td>\n",
       "      <td>HOSE</td>\n",
       "    </tr>\n",
       "    <tr>\n",
       "      <th>4</th>\n",
       "      <td>AAS</td>\n",
       "      <td>CTCP Chứng khoán SmartInvest</td>\n",
       "      <td>4</td>\n",
       "      <td>UPCOM</td>\n",
       "    </tr>\n",
       "    <tr>\n",
       "      <th>...</th>\n",
       "      <td>...</td>\n",
       "      <td>...</td>\n",
       "      <td>...</td>\n",
       "      <td>...</td>\n",
       "    </tr>\n",
       "    <tr>\n",
       "      <th>1747</th>\n",
       "      <td>YBC</td>\n",
       "      <td>CTCP Xi măng và Khoáng sản Yên Bái</td>\n",
       "      <td>1</td>\n",
       "      <td>UPCOM</td>\n",
       "    </tr>\n",
       "    <tr>\n",
       "      <th>1748</th>\n",
       "      <td>YBM</td>\n",
       "      <td>CTCP Khoáng sản Công nghiệp Yên Bái</td>\n",
       "      <td>1</td>\n",
       "      <td>HOSE</td>\n",
       "    </tr>\n",
       "    <tr>\n",
       "      <th>1749</th>\n",
       "      <td>YEG</td>\n",
       "      <td>CTCP Tập đoàn Yeah1</td>\n",
       "      <td>1</td>\n",
       "      <td>HOSE</td>\n",
       "    </tr>\n",
       "    <tr>\n",
       "      <th>1750</th>\n",
       "      <td>YSVN</td>\n",
       "      <td>Công ty TNHH Chứng khoán Yuanta Việt Nam</td>\n",
       "      <td>4</td>\n",
       "      <td>OTC</td>\n",
       "    </tr>\n",
       "    <tr>\n",
       "      <th>1751</th>\n",
       "      <td>YTC</td>\n",
       "      <td>CTCP Xuất nhập khẩu Y tế Thành phố Hồ Chí Minh</td>\n",
       "      <td>1</td>\n",
       "      <td>UPCOM</td>\n",
       "    </tr>\n",
       "  </tbody>\n",
       "</table>\n",
       "<p>1752 rows × 4 columns</p>\n",
       "</div>"
      ],
      "text/plain": [
       "     ticker                                       organName  organTypeCode  \\\n",
       "0       A32                                         CTCP 32              1   \n",
       "1       AAA                          CTCP Nhựa An Phát Xanh              1   \n",
       "2       AAH                                   CTCP Hợp Nhất              1   \n",
       "3       AAM                            CTCP Thủy sản MeKong              1   \n",
       "4       AAS                    CTCP Chứng khoán SmartInvest              4   \n",
       "...     ...                                             ...            ...   \n",
       "1747    YBC              CTCP Xi măng và Khoáng sản Yên Bái              1   \n",
       "1748    YBM             CTCP Khoáng sản Công nghiệp Yên Bái              1   \n",
       "1749    YEG                             CTCP Tập đoàn Yeah1              1   \n",
       "1750   YSVN        Công ty TNHH Chứng khoán Yuanta Việt Nam              4   \n",
       "1751    YTC  CTCP Xuất nhập khẩu Y tế Thành phố Hồ Chí Minh              1   \n",
       "\n",
       "     comGroupCode  \n",
       "0           UPCOM  \n",
       "1            HOSE  \n",
       "2           UPCOM  \n",
       "3            HOSE  \n",
       "4           UPCOM  \n",
       "...           ...  \n",
       "1747        UPCOM  \n",
       "1748         HOSE  \n",
       "1749         HOSE  \n",
       "1750          OTC  \n",
       "1751        UPCOM  \n",
       "\n",
       "[1752 rows x 4 columns]"
      ]
     },
     "execution_count": 8,
     "metadata": {},
     "output_type": "execute_result"
    }
   ],
   "source": [
    "data = listing_companies(live=True)\n",
    "data"
   ]
  },
  {
   "cell_type": "code",
   "execution_count": 6,
   "metadata": {},
   "outputs": [],
   "source": [
    "hose_companies = data[data['comGroupCode'] == 'HOSE']"
   ]
  },
  {
   "cell_type": "code",
   "execution_count": 9,
   "metadata": {},
   "outputs": [
    {
     "name": "stdout",
     "output_type": "stream",
     "text": [
      "     ticker                            organName  organTypeCode comGroupCode\n",
      "1       AAA               CTCP Nhựa An Phát Xanh              1         HOSE\n",
      "3       AAM                 CTCP Thủy sản MeKong              1         HOSE\n",
      "5       AAT     CTCP Tập Đoàn Tiên Sơn Thanh Hóa              1         HOSE\n",
      "10      ABR           CTCP Đầu tư Nhãn hiệu Việt              1         HOSE\n",
      "11      ABS  CTCP Dịch vụ Nông nghiệp Bình Thuận              1         HOSE\n",
      "...     ...                                  ...            ...          ...\n",
      "1703    VTB            CTCP Viettronics Tân Bình              1         HOSE\n",
      "1714    VTO         CTCP Vận tải Xăng dầu Vitaco              1         HOSE\n",
      "1715    VTP          Tổng CTCP Bưu chính Viettel              1         HOSE\n",
      "1748    YBM  CTCP Khoáng sản Công nghiệp Yên Bái              1         HOSE\n",
      "1749    YEG                  CTCP Tập đoàn Yeah1              1         HOSE\n",
      "\n",
      "[398 rows x 4 columns]\n"
     ]
    }
   ],
   "source": [
    "print(hose_companies)"
   ]
  },
  {
   "cell_type": "code",
   "execution_count": 12,
   "metadata": {},
   "outputs": [],
   "source": [
    "data.to_csv('data.csv', index = False)"
   ]
  },
  {
   "cell_type": "code",
   "execution_count": 13,
   "metadata": {},
   "outputs": [],
   "source": [
    "import datetime\n",
    "today = datetime.date.today()"
   ]
  }
 ],
 "metadata": {
  "kernelspec": {
   "display_name": "base",
   "language": "python",
   "name": "python3"
  },
  "language_info": {
   "codemirror_mode": {
    "name": "ipython",
    "version": 3
   },
   "file_extension": ".py",
   "mimetype": "text/x-python",
   "name": "python",
   "nbconvert_exporter": "python",
   "pygments_lexer": "ipython3",
   "version": "3.11.5"
  }
 },
 "nbformat": 4,
 "nbformat_minor": 2
}
